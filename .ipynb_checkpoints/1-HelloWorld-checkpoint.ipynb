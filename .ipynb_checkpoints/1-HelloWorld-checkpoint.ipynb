{
 "cells": [
  {
   "cell_type": "markdown",
   "id": "e904daf8-693b-4e72-ac14-0c4bb6035586",
   "metadata": {},
   "source": [
    "# -¿Que es python? 🐍\n",
    "\n",
    "---\n",
    "\n",
    "> Python es un lenguaje de programación de código abierto, creado por Guido van Rossum en 1991.\n",
    "> Se trata de un lenguaje orientado a objetos, fácil de interpretar y con una sintaxis que permite leerlo de manera semejante a como se # lee el inglés.\n",
    "\n",
    "> Es un lenguaje interpretado, esto significa que el código de programación se convierte en bytecode y luego se ejecuta por # el intérprete, que, en este caso, es la máquina virtual de Python.\n",
    "\n",
    "> El bytecode es un tipo de código de programa que se compila y ejecuta en sistemas informáticos llamados VM (máquinas virtuales, por sus siglas en inglés). Los programadores pueden usar el bytecode en su forma original en cualquier plataforma en la que opere la VM,\n",
    "\n",
    "> por lo que el código es independiente de la plataforma. También es intermedio, ya que sus funciones están a medio camino entre el\n",
    "\n",
    "> código fuente y el código máquina. El bytecode también se conoce como código portable o P-Code.\n",
    "\n",
    "## ¿Para que sirve? 🤔\n",
    "\n",
    "> La respuesta es breve: para todo. Python está en todo, desde programación de instrumentos hasta software de computadoras,desarrollo web y aplicaciones móviles. Incluso, te permite hacer comentarios para que tengas recordatorios para funciones futuras o indicar problemas en una línea de código.\n",
    "\n",
    "> Python es genial para casi cualquier necesidad de desarrollo, ya sea programación de servidores, operación de sistemas, software,\n",
    "\n",
    "> juegos y mucho más. A continuación, repasamos los usos más comunes:\n",
    "\n",
    "- Scripting y automatización\n",
    "\n",
    "- Python se utiliza para scripting (secuencias de comandos) y automatización en muchas industrias, desde máquinas de programación\n",
    "\n",
    "- en grandes fábricas hasta usos de ocio, como videojuegos. Las maneras en que el scripting y\n",
    "\n",
    "- la automatización benefician a las industrias son innumerables, al igual que la variedad de industrias en las que se utiliza.\n",
    "\n",
    "## Desarrollo de software 💻\n",
    "\n",
    "> Python se implementa en el desarrollo de software desde que se lanzó y continúa siendo muy popular para ese propósito.\n",
    "\n",
    "> Se utiliza para crear software en diferentes plataformas porque es compatible con muchos ámbitos de operación,\n",
    "\n",
    "- Sistemas operativos para computadoras y dispositivos móviles y en entornos de sistema en tiempo de ejecución.\n",
    "\n",
    "- Análisis de datos\n",
    "\n",
    "  - Python es adecuado para el análisis de datos porque funciona bien al crear representaciones visuales efectivas de bloques de datos complejos y al examinar datos. Estos dos aspectos de sus capacidades lo convierten en una herramienta básica en la industria de la ciencia de datos.\n",
    "\n",
    "- Machine learning e Inteligencia Artificial\n",
    "\n",
    "  - Los proyectos de machine learning (aprendizaje automático) se basan en la Inteligencia Artificial, que utiliza algoritmos para analizar datos, aprender y tomar mejores decisiones. Por lo que Python se utiliza ampliamente en este sector ya que tiene la potencia y la escalabilidad para manejar cantidades masivas de solicitudes de datos simultáneamente.\n",
    "\n",
    "- Ciencias de blockchain\n",
    "  - Esta industria se ha convertido, recientemente, en un usuario importante del lenguaje Python, que ha manejado desde siempre ciencias de blockchain.\n",
    "    - (¿qué es blockchain?):Blockchain, o cadena de bloques,es una base de datos compartida o distribuida que almacena datos de cualquier tipo. La información registrada está almacenada en bloques, ligados entre sí criptográficamente y validada de una forma descentralizada a través de un protocolo común\n",
    "  - El surgimiento y crecimiento continuo alrededor de tecnologías —como las criptomonedas y NFT— lo han encumbrado dentro de la industria. Su habilidad para manejar todos los aspectos de la tecnología blockchain lo convierte en un elemento primordial.\n",
    "\n",
    "# ¿Que veremos en el curso ?\n",
    "\n",
    "AHORA:\n",
    "\n",
    "> Instalacion de pyton\n",
    "\n",
    "> Instalacion de Visual studio Code\n",
    "\n",
    "> Instalacion de exensiones\n",
    "\n",
    "> Primer programa: Print (\"Hola Mundo\") (cadena de string) y ejecucion de programa\n",
    "\n",
    "`print (\"hola mundo\")`\n",
    "\n",
    "- saludar con python\n",
    "  - Escribir un programa que muestre por pantalla la cadena ¡Hola Mundo!. `print (\"Este es mi salude con python\")`\n"
   ]
  },
  {
   "cell_type": "code",
   "execution_count": 1,
   "id": "6e73373c-67ce-44f5-a41b-c798f12c9437",
   "metadata": {},
   "outputs": [
    {
     "name": "stdout",
     "output_type": "stream",
     "text": [
      "hola mundo\n"
     ]
    }
   ],
   "source": [
    "print (\"hola mundo\")"
   ]
  }
 ],
 "metadata": {
  "kernelspec": {
   "display_name": "Python 3 (ipykernel)",
   "language": "python",
   "name": "python3"
  },
  "language_info": {
   "codemirror_mode": {
    "name": "ipython",
    "version": 3
   },
   "file_extension": ".py",
   "mimetype": "text/x-python",
   "name": "python",
   "nbconvert_exporter": "python",
   "pygments_lexer": "ipython3",
   "version": "3.12.1"
  }
 },
 "nbformat": 4,
 "nbformat_minor": 5
}
